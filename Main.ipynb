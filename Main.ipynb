{
 "cells": [
  {
   "cell_type": "markdown",
   "id": "03d215fa",
   "metadata": {},
   "source": [
    "## Dependancies"
   ]
  },
  {
   "cell_type": "code",
   "execution_count": null,
   "id": "3bddf08d",
   "metadata": {},
   "outputs": [],
   "source": [
    "import matplotlib\n",
    "import matplotlib.pyplot as plt\n",
    "import numpy as np\n",
    "import pyreadr as pyr\n",
    "import pandas as pd\n",
    "import tqdm\n",
    "import json\n",
    "import sklearn\n",
    "from sklearn.preprocessing import StandardScaler\n",
    "from sklearn.decomposition import PCA\n",
    "import seaborn as sns\n",
    "import scipy\n",
    "import statsmodels\n",
    "import gseapy as gp\n",
    "import pyensembl as pe\n",
    "\n",
    "print(matplotlib.__version__)\n",
    "print(np.__version__)\n",
    "print(pd.__version__)\n",
    "print(pyr.__version__)\n",
    "print(tqdm.__version__)\n",
    "print(json.__version__)\n",
    "print(sklearn.__version__)\n",
    "print(sns.__version__)\n",
    "print(scipy.__version__)\n",
    "print(statsmodels.__version__)\n",
    "print(gp.__version__)\n",
    "print(pe.__version__)"
   ]
  }
 ],
 "metadata": {
  "kernelspec": {
   "display_name": "Python 3",
   "language": "python",
   "name": "python3"
  },
  "language_info": {
   "name": "python",
   "version": "3.12.10"
  }
 },
 "nbformat": 4,
 "nbformat_minor": 5
}
